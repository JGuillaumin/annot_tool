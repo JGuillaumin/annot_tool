{
 "cells": [
  {
   "cell_type": "code",
   "execution_count": 10,
   "id": "13f668e8",
   "metadata": {},
   "outputs": [],
   "source": [
    "import pandas as pd\n",
    "from io import StringIO\n",
    "import os\n",
    "import numpy as np"
   ]
  },
  {
   "cell_type": "code",
   "execution_count": 5,
   "id": "fe08a09d",
   "metadata": {},
   "outputs": [
    {
     "name": "stdout",
     "output_type": "stream",
     "text": [
      "sample_train_df : (19, 2) | ['image_id', 'label']\n"
     ]
    },
    {
     "data": {
      "text/html": [
       "<div>\n",
       "<style scoped>\n",
       "    .dataframe tbody tr th:only-of-type {\n",
       "        vertical-align: middle;\n",
       "    }\n",
       "\n",
       "    .dataframe tbody tr th {\n",
       "        vertical-align: top;\n",
       "    }\n",
       "\n",
       "    .dataframe thead th {\n",
       "        text-align: right;\n",
       "    }\n",
       "</style>\n",
       "<table border=\"1\" class=\"dataframe\">\n",
       "  <thead>\n",
       "    <tr style=\"text-align: right;\">\n",
       "      <th></th>\n",
       "      <th>image_id</th>\n",
       "      <th>label</th>\n",
       "    </tr>\n",
       "  </thead>\n",
       "  <tbody>\n",
       "    <tr>\n",
       "      <th>0</th>\n",
       "      <td>1000015157.jpg</td>\n",
       "      <td>0</td>\n",
       "    </tr>\n",
       "    <tr>\n",
       "      <th>1</th>\n",
       "      <td>1000201771.jpg</td>\n",
       "      <td>3</td>\n",
       "    </tr>\n",
       "    <tr>\n",
       "      <th>2</th>\n",
       "      <td>100042118.jpg</td>\n",
       "      <td>1</td>\n",
       "    </tr>\n",
       "  </tbody>\n",
       "</table>\n",
       "</div>"
      ],
      "text/plain": [
       "         image_id  label\n",
       "0  1000015157.jpg      0\n",
       "1  1000201771.jpg      3\n",
       "2   100042118.jpg      1"
      ]
     },
     "execution_count": 5,
     "metadata": {},
     "output_type": "execute_result"
    }
   ],
   "source": [
    "sample_train_csv = \"\"\"\n",
    "image_id,label\n",
    "1000015157.jpg,0\n",
    "1000201771.jpg,3\n",
    "100042118.jpg,1\n",
    "1000723321.jpg,1\n",
    "1000812911.jpg,3\n",
    "1000837476.jpg,3\n",
    "1000910826.jpg,2\n",
    "1001320321.jpg,0\n",
    "1001723730.jpg,4\n",
    "1001742395.jpg,3\n",
    "1001749118.jpg,3\n",
    "100204014.jpg,3\n",
    "1002088496.jpg,1\n",
    "1002255315.jpg,3\n",
    "1002394761.jpg,3\n",
    "1003218714.jpg,2\n",
    "1003298598.jpg,3\n",
    "1003442061.jpg,4\n",
    "1003888281.jpg,0\n",
    "\"\"\"\n",
    "\n",
    "sample_train_df = pd.read_csv(StringIO(sample_train_csv))\n",
    "print(f\"sample_train_df : {sample_train_df.shape} | {sample_train_df.columns.tolist()}\")\n",
    "sample_train_df.head(3)"
   ]
  },
  {
   "cell_type": "code",
   "execution_count": 24,
   "id": "d3f498f2",
   "metadata": {},
   "outputs": [
    {
     "data": {
      "text/html": [
       "<div>\n",
       "<style scoped>\n",
       "    .dataframe tbody tr th:only-of-type {\n",
       "        vertical-align: middle;\n",
       "    }\n",
       "\n",
       "    .dataframe tbody tr th {\n",
       "        vertical-align: top;\n",
       "    }\n",
       "\n",
       "    .dataframe thead th {\n",
       "        text-align: right;\n",
       "    }\n",
       "</style>\n",
       "<table border=\"1\" class=\"dataframe\">\n",
       "  <thead>\n",
       "    <tr style=\"text-align: right;\">\n",
       "      <th></th>\n",
       "      <th>image_id</th>\n",
       "      <th>label</th>\n",
       "      <th>image_path</th>\n",
       "      <th>source</th>\n",
       "      <th>discrepancy</th>\n",
       "    </tr>\n",
       "  </thead>\n",
       "  <tbody>\n",
       "    <tr>\n",
       "      <th>0</th>\n",
       "      <td>1000015157</td>\n",
       "      <td>0</td>\n",
       "      <td>images/1000015157.jpg</td>\n",
       "      <td>A</td>\n",
       "      <td>0.760717</td>\n",
       "    </tr>\n",
       "    <tr>\n",
       "      <th>1</th>\n",
       "      <td>1000201771</td>\n",
       "      <td>3</td>\n",
       "      <td>images/1000201771.jpg</td>\n",
       "      <td>C</td>\n",
       "      <td>0.343488</td>\n",
       "    </tr>\n",
       "    <tr>\n",
       "      <th>2</th>\n",
       "      <td>100042118</td>\n",
       "      <td>1</td>\n",
       "      <td>images/100042118.jpg</td>\n",
       "      <td>C</td>\n",
       "      <td>0.014685</td>\n",
       "    </tr>\n",
       "  </tbody>\n",
       "</table>\n",
       "</div>"
      ],
      "text/plain": [
       "     image_id  label             image_path source  discrepancy\n",
       "0  1000015157      0  images/1000015157.jpg      A     0.760717\n",
       "1  1000201771      3  images/1000201771.jpg      C     0.343488\n",
       "2   100042118      1   images/100042118.jpg      C     0.014685"
      ]
     },
     "execution_count": 24,
     "metadata": {},
     "output_type": "execute_result"
    }
   ],
   "source": [
    "metadata = sample_train_df.copy()\n",
    "metadata['image_path'] = metadata['image_id'].apply(lambda image_id : os.path.join(\"images\", image_id))\n",
    "metadata['image_id'] = metadata['image_id'].apply(lambda image_id : image_id.split('.jpg')[0])\n",
    "\n",
    "\n",
    "# add 'source' column, generated categorical metadata \n",
    "metadata['source'] = np.random.choice(['A', 'B', 'C'], size=metadata.shape[0])\n",
    "\n",
    "# add 'discrepancy' column, generated scalar metadata\n",
    "metadata['discrepancy'] = np.random.uniform(low=0.0, high=1.0, size=metadata.shape[0])\n",
    "\n",
    "metadata.head(3)"
   ]
  },
  {
   "cell_type": "code",
   "execution_count": 25,
   "id": "ab50c5ec",
   "metadata": {},
   "outputs": [
    {
     "name": "stdout",
     "output_type": "stream",
     "text": [
      "{3: 9, 0: 3, 1: 3, 2: 2, 4: 2}\n",
      "{'C': 10, 'B': 5, 'A': 4}\n"
     ]
    }
   ],
   "source": [
    "print(metadata['label'].value_counts().to_dict())\n",
    "print(metadata['source'].value_counts().to_dict())"
   ]
  },
  {
   "cell_type": "code",
   "execution_count": 26,
   "id": "f6888e73",
   "metadata": {},
   "outputs": [],
   "source": [
    "columns = ['image_id', 'label', 'source', 'discrepancy', 'image_path']\n",
    "metadata.to_csv(\"../data/metadata.csv\", index=False, header=True, columns=columns)"
   ]
  },
  {
   "cell_type": "code",
   "execution_count": null,
   "id": "98d22487",
   "metadata": {},
   "outputs": [],
   "source": []
  }
 ],
 "metadata": {
  "kernelspec": {
   "display_name": "Python 3 (ipykernel)",
   "language": "python",
   "name": "python3"
  },
  "language_info": {
   "codemirror_mode": {
    "name": "ipython",
    "version": 3
   },
   "file_extension": ".py",
   "mimetype": "text/x-python",
   "name": "python",
   "nbconvert_exporter": "python",
   "pygments_lexer": "ipython3",
   "version": "3.10.6"
  }
 },
 "nbformat": 4,
 "nbformat_minor": 5
}
